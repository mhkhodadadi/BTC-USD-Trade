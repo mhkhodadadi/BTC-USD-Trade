{
 "cells": [
  {
   "metadata": {},
   "cell_type": "markdown",
   "source": "## Import Libraries",
   "id": "6aba9592a20e3466"
  },
  {
   "metadata": {
    "ExecuteTime": {
     "end_time": "2024-11-28T12:36:45.402269Z",
     "start_time": "2024-11-28T12:36:45.399103Z"
    }
   },
   "cell_type": "code",
   "source": "import pandas as pd",
   "id": "61fd9cf2ab013faf",
   "outputs": [],
   "execution_count": 29
  },
  {
   "metadata": {},
   "cell_type": "markdown",
   "source": [
    "## Load Data\n",
    "1. Load Data of BTC-USD from `2015` to `2022` from `BTC-USD-2015to2022.csv`\n",
    "2. Set Parameter `initAsset` for initial asset."
   ],
   "id": "ff43e044950653b1"
  },
  {
   "metadata": {
    "ExecuteTime": {
     "end_time": "2024-11-28T12:36:45.440031Z",
     "start_time": "2024-11-28T12:36:45.427091Z"
    }
   },
   "cell_type": "code",
   "source": [
    "btcDf= pd.read_csv('BTC-USD-2015to2022.csv')\n",
    "initialAsset = 1000"
   ],
   "id": "8056ec8e4562d4e",
   "outputs": [],
   "execution_count": 30
  },
  {
   "metadata": {},
   "cell_type": "markdown",
   "source": "## Functions",
   "id": "f9047d573949b5d"
  },
  {
   "metadata": {
    "ExecuteTime": {
     "end_time": "2024-11-28T12:36:45.447946Z",
     "start_time": "2024-11-28T12:36:45.442027Z"
    }
   },
   "cell_type": "code",
   "source": [
    "btc = 0\n",
    "weeknum = 0\n",
    "def Tade1(row):\n",
    "    global initAsset\n",
    "    global btc\n",
    "    #Buy on Sunday\n",
    "    if row['weekDay'] == 'Sunday':\n",
    "        btc = initAsset / row['Open']\n",
    "        row['Btc'], row['Usd'] = btc, 0\n",
    "    # Sell on Wednesday\n",
    "    elif row['weekDay'] == 'Wednesday':\n",
    "        initAsset = btc * row['Close']\n",
    "        row['Btc'], row['Usd'] = 0, initAsset\n",
    "    return row\n",
    "\n",
    "def Tade2(row):\n",
    "    global initAsset, btc, weeknum\n",
    "    #Buy\n",
    "    btc = initAsset / row['sunOpen']\n",
    "    # Sell\n",
    "    initAsset = btc * row['wedClose']\n",
    "    weeknum += 1\n",
    "    row['Btc'], row['Usd'], row['weekNum'] = btc, initAsset, f'Week {weeknum}'\n",
    "    return row\n",
    "\n",
    "def Trade3(row):\n",
    "    global initAsset, weeknum\n",
    "    #Buy and Sell\n",
    "    initAsset = initAsset / row['sunOpen'] * row['wedClose']\n",
    "    weeknum += 1\n",
    "    row['Asset'], row['weekNum'], row['rowNum'] = initAsset, f'Week {weeknum}', weeknum\n",
    "    return row\n"
   ],
   "id": "62106879b5e0064b",
   "outputs": [],
   "execution_count": 31
  },
  {
   "metadata": {},
   "cell_type": "markdown",
   "source": [
    "## Method 1\n",
    "Keep the Sunday and Wednesday rows and trade on them buying on Sunday and selling on Wednesday."
   ],
   "id": "9a32a0a2a04a61a7"
  },
  {
   "metadata": {
    "ExecuteTime": {
     "end_time": "2024-11-28T12:36:45.507245Z",
     "start_time": "2024-11-28T12:36:45.448946Z"
    }
   },
   "cell_type": "code",
   "source": [
    "initAsset = initialAsset\n",
    "df = pd.DataFrame(btcDf)\n",
    "# include the columns you want\n",
    "# df['date'] = df.index\n",
    "df['Date'] = pd.to_datetime(df['Date'])\n",
    "df['weekDay'] = df['Date'].dt.day_name()\n",
    "df = df[df.columns[df.columns.isin(['Open', 'Close', 'weekDay'])]]\n",
    "df['Usd'] = 0\n",
    "df['Btc'] = 0\n",
    "df = df[(df['weekDay'] == 'Sunday') | (df['weekDay'] == 'Wednesday')]\n",
    "\n",
    "df = df.apply(Tade1, axis=1)\n",
    "denefit = df.loc[df['weekDay'] == 'Wednesday', 'Usd'].values[-1] - 1000\n",
    "print(f'Benefit: {denefit:.2f} USD')"
   ],
   "id": "c191924b3ac1e6ad",
   "outputs": [
    {
     "name": "stdout",
     "output_type": "stream",
     "text": [
      "Benefit: 6134.36 USD\n"
     ]
    }
   ],
   "execution_count": 32
  },
  {
   "metadata": {},
   "cell_type": "markdown",
   "source": [
    "## Method 2\n",
    "Keep the Sunday and Wednesday rows and trade on them buying on Sunday and selling on Wednesday.\n",
    "The Sunday and Wednesday rows are kept, column Close one row shifted back as Close_Wednesday - shift(-1) - and Wednesday rows are deleted then traded on them, buying and selling separately on Sunday."
   ],
   "id": "d9464222426c5a58"
  },
  {
   "metadata": {
    "ExecuteTime": {
     "end_time": "2024-11-28T12:36:45.548605Z",
     "start_time": "2024-11-28T12:36:45.508278Z"
    }
   },
   "cell_type": "code",
   "source": [
    "initAsset = initialAsset\n",
    "df = pd.DataFrame(btcDf)\n",
    "# include the columns you want\n",
    "df['Date'] = pd.to_datetime(df['Date'])\n",
    "df['weekDay'] = df['Date'].dt.day_name()\n",
    "df = df[df.columns[df.columns.isin(['Open', 'Close', 'weekDay'])]]\n",
    "df = df[(df['weekDay'] == 'Sunday') | (df['weekDay'] == 'Wednesday')]\n",
    "df['wedClose'] = df['Close'].shift(-1)\n",
    "df['Usd'] = 0\n",
    "df['Btc'] = 0\n",
    "df = df[(df['weekDay'] == 'Sunday')]\n",
    "df = df.rename(columns={\"weekDay\": \"weekNum\", \"Open\": \"sunOpen\", \"Close\": \"sunClose\"})\n",
    "\n",
    "df = df.apply(Tade2, axis=1)\n",
    "benefit = df['Usd'].values[-1] - 1000\n",
    "print(f'Benefit: {benefit:.2f} USD')"
   ],
   "id": "fedc5dc7c92226",
   "outputs": [
    {
     "name": "stdout",
     "output_type": "stream",
     "text": [
      "Benefit: 6134.36 USD\n"
     ]
    }
   ],
   "execution_count": 33
  },
  {
   "metadata": {},
   "cell_type": "markdown",
   "source": [
    "## Method 3\n",
    "Keep the Sunday and Wednesday rows, column Close one row shifted back as `Close_Wednesday` - shift(-1) - then delete Wednesday's rows and traded on remind rows (Sunday's Rows)."
   ],
   "id": "20c7913de0d153f6"
  },
  {
   "metadata": {
    "ExecuteTime": {
     "end_time": "2024-11-28T12:36:45.684381Z",
     "start_time": "2024-11-28T12:36:45.550601Z"
    }
   },
   "cell_type": "code",
   "source": [
    "initAsset = initialAsset\n",
    "df = pd.DataFrame(btcDf)\n",
    "# include the columns you want\n",
    "df['Date'] = pd.to_datetime(df['Date'])\n",
    "df['weekDay'] = df['Date'].dt.day_name()\n",
    "df = df[df.columns[df.columns.isin(['Open', 'Close', 'weekDay'])]]\n",
    "df = df[(df['weekDay'] == 'Sunday') | (df['weekDay'] == 'Wednesday')]\n",
    "df['wedClose'] = df['Close'].shift(-1)\n",
    "df['Asset'] = 0\n",
    "df = df[(df['weekDay'] == 'Sunday')]\n",
    "df = df.rename(columns={\"weekDay\": \"weekNum\", \"Open\": \"sunOpen\", \"Close\": \"sunClose\"})\n",
    "\n",
    "df = df.apply(Trade3, axis=1)\n",
    "benefit = df['Asset'].values[-1] - 1000\n",
    "print(f'Benefit: {benefit:.2f} USD')"
   ],
   "id": "c6e9494cae3c98be",
   "outputs": [
    {
     "name": "stdout",
     "output_type": "stream",
     "text": [
      "Benefit: 6134.36 USD\n"
     ]
    }
   ],
   "execution_count": 34
  },
  {
   "metadata": {
    "ExecuteTime": {
     "end_time": "2024-11-28T12:36:45.687698Z",
     "start_time": "2024-11-28T12:36:45.685405Z"
    }
   },
   "cell_type": "code",
   "source": "",
   "id": "256b4bcbc2d34f03",
   "outputs": [],
   "execution_count": 34
  }
 ],
 "metadata": {
  "kernelspec": {
   "display_name": "Python 3",
   "language": "python",
   "name": "python3"
  },
  "language_info": {
   "codemirror_mode": {
    "name": "ipython",
    "version": 2
   },
   "file_extension": ".py",
   "mimetype": "text/x-python",
   "name": "python",
   "nbconvert_exporter": "python",
   "pygments_lexer": "ipython2",
   "version": "2.7.6"
  }
 },
 "nbformat": 4,
 "nbformat_minor": 5
}
